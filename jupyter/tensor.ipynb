{
 "cells": [
  {
   "cell_type": "code",
   "execution_count": 2,
   "metadata": {},
   "outputs": [
    {
     "name": "stdout",
     "output_type": "stream",
     "text": [
      "Epoch 1/5\n",
      "1875/1875 [==============================] - 4s 2ms/step - loss: 0.2612 - accuracy: 0.9266\n",
      "Epoch 2/5\n",
      "1875/1875 [==============================] - 3s 2ms/step - loss: 0.1173 - accuracy: 0.9655\n",
      "Epoch 3/5\n",
      "1875/1875 [==============================] - 3s 2ms/step - loss: 0.0792 - accuracy: 0.9763\n",
      "Epoch 4/5\n",
      "1875/1875 [==============================] - 3s 2ms/step - loss: 0.0584 - accuracy: 0.9821\n",
      "Epoch 5/5\n",
      "1875/1875 [==============================] - 3s 2ms/step - loss: 0.0461 - accuracy: 0.9857\n"
     ]
    },
    {
     "name": "stderr",
     "output_type": "stream",
     "text": [
      "c:\\Users\\COMPUTER\\anaconda3\\envs\\tf2\\lib\\site-packages\\keras\\src\\engine\\training.py:3000: UserWarning: You are saving your model as an HDF5 file via `model.save()`. This file format is considered legacy. We recommend using instead the native Keras format, e.g. `model.save('my_model.keras')`.\n",
      "  saving_api.save_model(\n"
     ]
    },
    {
     "name": "stdout",
     "output_type": "stream",
     "text": [
      "INFO:tensorflow:Assets written to: C:\\Users\\Public\\Documents\\ESTsoft\\CreatorTemp\\tmpmzx60qt4\\assets\n"
     ]
    },
    {
     "name": "stderr",
     "output_type": "stream",
     "text": [
      "INFO:tensorflow:Assets written to: C:\\Users\\Public\\Documents\\ESTsoft\\CreatorTemp\\tmpmzx60qt4\\assets\n"
     ]
    },
    {
     "name": "stdout",
     "output_type": "stream",
     "text": [
      "INFO:tensorflow:Assets written to: C:\\Users\\Public\\Documents\\ESTsoft\\CreatorTemp\\tmp9h4b0f8a\\assets\n"
     ]
    },
    {
     "name": "stderr",
     "output_type": "stream",
     "text": [
      "INFO:tensorflow:Assets written to: C:\\Users\\Public\\Documents\\ESTsoft\\CreatorTemp\\tmp9h4b0f8a\\assets\n"
     ]
    },
    {
     "name": "stdout",
     "output_type": "stream",
     "text": [
      "tf.Tensor(4, shape=(), dtype=int32)\n",
      "tf.Tensor([4 3], shape=(2,), dtype=int32)\n",
      "tf.Tensor(\n",
      "[[4. 3.]\n",
      " [2. 6.]], shape=(2, 2), dtype=float32)\n",
      "tf.Tensor(4, shape=(), dtype=int32)\n",
      "tf.Tensor([4 3], shape=(2,), dtype=int32)\n",
      "tf.Tensor(\n",
      "[[4. 3.]\n",
      " [2. 6.]], shape=(2, 2), dtype=float32)\n",
      "tf.Tensor(5, shape=(), dtype=int32)\n",
      "tf.Tensor(5, shape=(), dtype=int32)\n",
      "tf.Tensor([[2. 3. 4.]], shape=(1, 3), dtype=float32)\n",
      "tf.Tensor([[2. 3. 4.]], shape=(1, 3), dtype=float32)\n"
     ]
    }
   ],
   "source": [
    "import os\n",
    "import tensorflow as tf\n",
    "\n",
    "# MNIST 데이터셋 로드\n",
    "mnist = tf.keras.datasets.mnist\n",
    "(x_train, y_train), (x_test, y_test) = mnist.load_data()\n",
    "\n",
    "# 데이터 정규화\n",
    "x_train, x_test = x_train / 255.0, x_test / 255.0\n",
    "\n",
    "# 모델 정의\n",
    "mlp_model = tf.keras.models.Sequential([\n",
    "    tf.keras.layers.Flatten(input_shape=(28, 28)),\n",
    "    tf.keras.layers.Dense(128, activation='relu'),\n",
    "    tf.keras.layers.Dense(10, activation='softmax')\n",
    "])\n",
    "\n",
    "# 모델 컴파일\n",
    "mlp_model.compile(optimizer='adam', loss='sparse_categorical_crossentropy', metrics=['accuracy'])\n",
    "\n",
    "# 모델 훈련\n",
    "mlp_model.fit(x_train, y_train, epochs=5)\n",
    "\n",
    "# HDF5 형식으로 모델 저장\n",
    "os.makedirs(\"./mlp_model\", exist_ok=True)\n",
    "mlp_model.save(\"./mlp_model/mlp_model.h5\")  # HDF5 형식으로 저장\n",
    "\n",
    "# TFLite 모델로 변환 (HDF5 모델 사용)\n",
    "converter = tf.lite.TFLiteConverter.from_keras_model(mlp_model)\n",
    "tflite_model = converter.convert()\n",
    "\n",
    "# TFLite 모델 저장\n",
    "with open('./keras_model.tflite', 'wb') as f:\n",
    "    f.write(tflite_model)\n",
    "\n",
    "# HDF5 모델 로드\n",
    "h5_model = tf.keras.models.load_model(\"./mlp_model/mlp_model.h5\")\n",
    "\n",
    "# TFLite 모델로 변환 (HDF5 모델 사용)\n",
    "converter = tf.lite.TFLiteConverter.from_keras_model(h5_model)  # HDF5 모델을 사용\n",
    "tflite_model_h5 = converter.convert()\n",
    "\n",
    "# TFLite 모델 저장\n",
    "with open('./saved_model.tflite', 'wb') as f:\n",
    "    f.write(tflite_model_h5)\n",
    "\n",
    "class Inc(tf.keras.layers.Layer):\n",
    "    def call(self, inputs):\n",
    "        return inputs + 1\n",
    "inc = Inc()\n",
    "\n",
    "class Inc_Graph(tf.keras.layers.Layer):\n",
    "    @tf.function\n",
    "    def call(self, inputs):\n",
    "        return inputs + 1\n",
    "inc_g = Inc_Graph()\n",
    "\n",
    "inc_g2 = tf.function(inc)\n",
    "\n",
    "print(inc_g(tf.constant(3)))\n",
    "print(inc_g(tf.constant([3, 2])))\n",
    "print(inc_g(tf.constant([[3, 2], [1.0, 5.0]])))\n",
    "\n",
    "print(inc_g2(tf.constant(3)))\n",
    "print(inc_g2(tf.constant([3, 2])))\n",
    "print(inc_g2(tf.constant([[3, 2], [1.0, 5.0]])))\n",
    "\n",
    "print(inc_g(tf.constant(4)))\n",
    "print(inc_g2(tf.constant(4)))\n",
    "\n",
    "concrete_fun = inc_g.call.get_concrete_function(tf.TensorSpec(shape=(1, 3),\n",
    "                dtype=tf.float32))\n",
    "print(concrete_fun(tf.constant([[1.0, 2.0, 3.0]])))\n",
    "\n",
    "concrete_fun = inc_g2.get_concrete_function(tf.TensorSpec(shape=(1, 3),\n",
    "                dtype=tf.float32))\n",
    "print(concrete_fun(tf.constant([[1.0, 2.0, 3.0]])))"
   ]
  }
 ],
 "metadata": {
  "kernelspec": {
   "display_name": "tf2",
   "language": "python",
   "name": "python3"
  },
  "language_info": {
   "codemirror_mode": {
    "name": "ipython",
    "version": 3
   },
   "file_extension": ".py",
   "mimetype": "text/x-python",
   "name": "python",
   "nbconvert_exporter": "python",
   "pygments_lexer": "ipython3",
   "version": "3.8.19"
  }
 },
 "nbformat": 4,
 "nbformat_minor": 2
}
